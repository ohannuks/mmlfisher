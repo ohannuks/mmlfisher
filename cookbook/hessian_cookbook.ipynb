{
 "cells": [
  {
   "cell_type": "markdown",
   "metadata": {},
   "source": [
    "In the FIM implementation, we need to implement the covariance matrix\n",
    "\n",
    "$$\\Sigma^{-1} = - \\frac{\\partial^2 \\log p}{\\partial \\vec \\phi_\\text{img} \\partial \\vec \\phi_\\text{img}}$$\n",
    "\n",
    "Here we do a jax implementation of a simpler scalar function:\n",
    "\n",
    "$$\\Sigma^{-1} = - \\frac{\\partial^2 f(\\vec x)}{\\partial \\vec x \\partial \\vec x}$$\n",
    "\n",
    "where \n",
    "$$f(\\vec x) = x_1^3 + x_1^2 + x_2^2 + 2 x_1 x_2$$\n",
    "\n",
    "In this case, the Hessian should be:\n",
    "\n",
    "$$\\Sigma^{-1} = \\begin{pmatrix}\n",
    "2+6 x_1 & 2\\\\\n",
    "2 & 2\n",
    "\\end{pmatrix} $$"
   ]
  },
  {
   "cell_type": "code",
   "execution_count": 4,
   "metadata": {},
   "outputs": [],
   "source": [
    "import numpy as np\n",
    "import jax.numpy as jnp\n",
    "from jax import hessian, jacobian, grad, jit"
   ]
  },
  {
   "cell_type": "code",
   "execution_count": 21,
   "metadata": {},
   "outputs": [],
   "source": [
    "def f(x):\n",
    "    \"\"\"Function to compute the value of f.\"\"\"\n",
    "    return x[0]**3 + x[0]**2 + x[1]**2 + 2*x[0]*x[1]\n",
    "\n",
    "def hessian_analytical(x):\n",
    "    \"\"\"Analytical Hessian of the function f.\"\"\"\n",
    "    return jnp.array([[6*x[0] + 2, 2],\n",
    "                     [2, 2]])"
   ]
  },
  {
   "cell_type": "code",
   "execution_count": 22,
   "metadata": {},
   "outputs": [],
   "source": [
    "# Take the hessian of f using jax:\n",
    "hessian_f = hessian(f)"
   ]
  },
  {
   "cell_type": "code",
   "execution_count": 23,
   "metadata": {},
   "outputs": [
    {
     "name": "stdout",
     "output_type": "stream",
     "text": [
      "Analytical Hessian at (1, 2):\n",
      "[[8. 2.]\n",
      " [2. 2.]]\n",
      "JAX Hessian at (1, 2):\n",
      "[[8. 2.]\n",
      " [2. 2.]]\n",
      "Difference between analytical and JAX Hessian:\n",
      "[[0. 0.]\n",
      " [0. 0.]]\n"
     ]
    }
   ],
   "source": [
    "# Print out the hessian at the point (1, 2) using both the analytical and jax methods\n",
    "x = jnp.array([1., 2.])\n",
    "print(\"Analytical Hessian at (1, 2):\")\n",
    "print(hessian_analytical(x))\n",
    "print(\"JAX Hessian at (1, 2):\")\n",
    "print(hessian_f(x))\n",
    "print(\"Difference between analytical and JAX Hessian:\")\n",
    "print(hessian_analytical(x) - hessian_f(x))"
   ]
  },
  {
   "cell_type": "code",
   "execution_count": null,
   "metadata": {},
   "outputs": [],
   "source": []
  }
 ],
 "metadata": {
  "kernelspec": {
   "display_name": "Python 3",
   "language": "python",
   "name": "python3"
  },
  "language_info": {
   "codemirror_mode": {
    "name": "ipython",
    "version": 3
   },
   "file_extension": ".py",
   "mimetype": "text/x-python",
   "name": "python",
   "nbconvert_exporter": "python",
   "pygments_lexer": "ipython3",
   "version": "3.11.11"
  }
 },
 "nbformat": 4,
 "nbformat_minor": 2
}
