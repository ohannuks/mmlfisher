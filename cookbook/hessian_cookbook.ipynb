{
 "cells": [
  {
   "cell_type": "markdown",
   "metadata": {},
   "source": [
    "In the FIM implementation, we need to implement the covariance matrix\n",
    "\n",
    "$$\\Sigma^{-1} = - \\frac{\\partial^2 \\log p}{\\partial \\vec \\phi_\\text{img} \\partial \\vec \\phi_\\text{img}}$$\n",
    "\n",
    "Here we do a jax implementation of a simpler scalar function:\n",
    "\n",
    "$$\\Sigma^{-1} = - \\frac{\\partial^2 f(\\vec x)}{\\partial \\vec x \\partial \\vec x}$$\n",
    "\n",
    "where \n",
    "$$f(\\vec x) = (x_1-1)^3 + (x_1-1)^2 + x_2^2 + 2 (x_1-1) x_2$$\n",
    "\n",
    "In this case, the Hessian should be:\n",
    "\n",
    "$$\\Sigma^{-1} = \\begin{pmatrix}\n",
    "6 x_1-4 & 2\\\\\n",
    "2 & 2\n",
    "\\end{pmatrix} $$\n",
    "\n",
    "\n",
    "This has a max \"posterior\" value at $\\vec x = (1, 0)$"
   ]
  },
  {
   "cell_type": "code",
   "execution_count": 251,
   "metadata": {},
   "outputs": [],
   "source": [
    "import numpy as np\n",
    "import jax.numpy as jnp\n",
    "from jax import hessian, jacobian, grad, jit"
   ]
  },
  {
   "cell_type": "code",
   "execution_count": 252,
   "metadata": {},
   "outputs": [],
   "source": [
    "def f(x):\n",
    "    \"\"\"Function to compute the value of f.\"\"\"\n",
    "    return (x[0]-1)**3 + (x[0]-1)**2 + x[1]**2 + 2 * (x[0]-1) * x[1]\n",
    "\n",
    "\n",
    "def hessian_analytical(x):\n",
    "    \"\"\"Analytical Hessian of the function f.\"\"\"\n",
    "    return jnp.array([[6*x[0] - 4, 2],\n",
    "                     [2, 2]])"
   ]
  },
  {
   "cell_type": "code",
   "execution_count": 253,
   "metadata": {},
   "outputs": [],
   "source": [
    "# Take the hessian of f using jax:\n",
    "hessian_f = hessian(f)\n",
    "# Take the gradient of f using jax:\n",
    "grad_f = grad(f)"
   ]
  },
  {
   "cell_type": "code",
   "execution_count": 254,
   "metadata": {},
   "outputs": [
    {
     "name": "stdout",
     "output_type": "stream",
     "text": [
      "Analytical Hessian at (1,1):\n",
      "[[8. 2.]\n",
      " [2. 2.]]\n",
      "JAX Hessian at (1,1):\n",
      "[[8. 2.]\n",
      " [2. 2.]]\n",
      "Difference between analytical and JAX Hessian:\n",
      "[[0. 0.]\n",
      " [0. 0.]]\n"
     ]
    }
   ],
   "source": [
    "# Print out the hessian at the point (1,1) using both the analytical and jax methods\n",
    "x = jnp.array([2., 5.])\n",
    "print(\"Analytical Hessian at (1,1):\")\n",
    "print(hessian_analytical(x))\n",
    "print(\"JAX Hessian at (1,1):\")\n",
    "print(hessian_f(x))\n",
    "print(\"Difference between analytical and JAX Hessian:\")\n",
    "print(hessian_analytical(x) - hessian_f(x))"
   ]
  },
  {
   "cell_type": "code",
   "execution_count": 255,
   "metadata": {},
   "outputs": [
    {
     "name": "stdout",
     "output_type": "stream",
     "text": [
      "Gradient at (1,0):\n",
      "[0. 0.]\n"
     ]
    }
   ],
   "source": [
    "# Compute the gradient at the point (1,0) using only jax\n",
    "print(\"Gradient at (1,0):\")\n",
    "print(grad_f(jnp.array([1., 0.])))"
   ]
  },
  {
   "cell_type": "markdown",
   "metadata": {},
   "source": [
    "Now compute the same thing but instead of using vectors, use dictionaries (because herculens uses dictionaries)"
   ]
  },
  {
   "cell_type": "code",
   "execution_count": 256,
   "metadata": {},
   "outputs": [],
   "source": [
    "def f_using_dictionaries(x):\n",
    "    \"\"\"Function to compute the value of f using dictionaries.\"\"\"\n",
    "    return (x['x0']-1)**3 + (x['x0']-1)**2 + x['x1']**2 + 2*(x['x0']-1)*x['x1']\n",
    "\n",
    "def hessian_analytical_using_dictionaries(x):\n",
    "    \"\"\"Analytical Hessian of the function f using dictionaries.\"\"\"\n",
    "    return jnp.array([[6*x['x0'] - 4, 2],\n",
    "                     [2, 2]])\n",
    "    \n",
    "# Take the hessian of f using jax with dictionaries:\n",
    "hessian_f_dict = hessian(f_using_dictionaries)"
   ]
  },
  {
   "cell_type": "code",
   "execution_count": 257,
   "metadata": {},
   "outputs": [
    {
     "name": "stdout",
     "output_type": "stream",
     "text": [
      "Analytical Hessian at (1, 1) using dictionaries:\n",
      "[[2. 2.]\n",
      " [2. 2.]]\n",
      "JAX Hessian at (1, 1) using dictionaries:\n",
      "{'x0': {'x0': Array(2., dtype=float32, weak_type=True), 'x1': Array(2., dtype=float32, weak_type=True)}, 'x1': {'x0': Array(2., dtype=float32, weak_type=True), 'x1': Array(2., dtype=float32, weak_type=True)}}\n"
     ]
    }
   ],
   "source": [
    "# Print out the hessian at the point (1, 1) using both the analytical and jax methods\n",
    "x_dict = {'x0': 1., 'x1': 1.}\n",
    "print(\"Analytical Hessian at (1, 1) using dictionaries:\")\n",
    "print(hessian_analytical_using_dictionaries(x_dict))\n",
    "print(\"JAX Hessian at (1, 1) using dictionaries:\")\n",
    "print(hessian_f_dict(x_dict))"
   ]
  },
  {
   "cell_type": "code",
   "execution_count": 258,
   "metadata": {},
   "outputs": [
    {
     "name": "stdout",
     "output_type": "stream",
     "text": [
      "[[2. 2.]\n",
      " [2. 2.]]\n",
      "Difference between analytical and JAX Hessian using dictionaries:\n",
      "[[0. 0.]\n",
      " [0. 0.]]\n"
     ]
    }
   ],
   "source": [
    "# Convert the dictionary-based Hessian to a matrix form\n",
    "# using the keys of the dictionary\n",
    "hessian_dictionary_form = hessian_f_dict(x_dict)\n",
    "keys = list(x_dict.keys())\n",
    "hessian_matrix_form = jnp.array([[hessian_dictionary_form[keys[i]][keys[j]] for j in range(len(keys))] for i in range(len(keys))])\n",
    "\n",
    "print(hessian_matrix_form)\n",
    "print(\"Difference between analytical and JAX Hessian using dictionaries:\")\n",
    "print(hessian_analytical_using_dictionaries(x_dict) - hessian_matrix_form)"
   ]
  },
  {
   "cell_type": "markdown",
   "metadata": {},
   "source": [
    "Now compute the hessian using another set of parameters:\n",
    "\n",
    "$$\\vec y = \\{y_1,y_2,y_3\\}$$\n",
    "\n",
    "where $$y_i = y_i(\\vec x)$$\n",
    "\n",
    "and, in particular,\n",
    "\n",
    "$$x_1 = y_1$$\n",
    "\n",
    "$$x_2 = y_2 + g(y_2,x_1)$$\n",
    "\n",
    "\n",
    "$$x_2 = y_3 + g(y_2,x_1)$$\n",
    "\n",
    "with $g(y,x_1) = - y^2/x_1,$ and $y_2=(x_1+\\sqrt{x_1-4 x_1 x_2})/2$ and $y_3=(x_1-\\sqrt{x_1-4 x_1 x_2})/2$\n",
    "\n",
    "In this case, we can alternatively evaluate the hessian with:\n",
    "\n",
    "$$\\Sigma^{-1} = - \\left( \\frac{\\vec x}{\\vec y}\\right)^{-1} \\frac{\\partial^2 f(\\vec y)}{\\partial \\vec y \\partial \\vec y} \\left( \\frac{\\vec x}{\\vec y}\\right)^{-1}$$\n",
    "\n",
    "at the max posterior point $\\vec x_\\text{maxP} = (1,0)$. "
   ]
  },
  {
   "cell_type": "code",
   "execution_count": 259,
   "metadata": {},
   "outputs": [],
   "source": [
    "def g(y_scalar, x_1):\n",
    "    return -y_scalar**2/x_1\n",
    "\n",
    "def x(y):\n",
    "    return jnp.array([y[0], \n",
    "                      (y[1]+g(y[1], y[0])+y[2]+g(y[2], y[0]))/2.\n",
    "                    ])\n",
    "\n",
    "def y(x):\n",
    "    return jnp.array([x[0], \n",
    "                      (x[0]+jnp.sqrt(x[0]**2-4*x[0]*x[1]))/2.,\n",
    "                      (x[0]-jnp.sqrt(x[0]**2-4*x[0]*x[2]))/2.\n",
    "                    ])\n",
    "\n",
    "def f_as_function_of_y(y):\n",
    "    \"\"\"Function to compute the value of f.\"\"\"\n",
    "    x0 =  x(y) # Convert y to x\n",
    "    return f(x0)"
   ]
  },
  {
   "cell_type": "code",
   "execution_count": 267,
   "metadata": {},
   "outputs": [
    {
     "name": "stdout",
     "output_type": "stream",
     "text": [
      "Hessian at y(x) with x=(1,0):\n",
      "[[ 4.5 -1.5  1.5]\n",
      " [-1.5  0.5 -0.5]\n",
      " [ 1.5 -0.5  0.5]]\n"
     ]
    }
   ],
   "source": [
    "# Compute the Hessian of f as a function of y:\n",
    "hessian_f_y = hessian(f_as_function_of_y)\n",
    "# Print out the hessian at the point y(x) with x=(1, 0)\n",
    "x0 = jnp.array([1., 0.])\n",
    "y0 = y(x0)\n",
    "print(\"Hessian at y(x) with x=(1,0):\")\n",
    "print(hessian_f_y(y0))"
   ]
  },
  {
   "cell_type": "code",
   "execution_count": 283,
   "metadata": {},
   "outputs": [
    {
     "name": "stdout",
     "output_type": "stream",
     "text": [
      "Jacobian dx/dy:\n",
      "[[ 1.   0.   0. ]\n",
      " [ 0.5 -0.5  0.5]]\n"
     ]
    }
   ],
   "source": [
    "# Compute the Jacobian dx/dy:\n",
    "jac = jacobian(x)(y0); jac_pinv = jnp.linalg.pinv(jac)\n",
    "print(\"Jacobian dx/dy:\")\n",
    "print(jac)"
   ]
  },
  {
   "cell_type": "code",
   "execution_count": 285,
   "metadata": {},
   "outputs": [
    {
     "name": "stdout",
     "output_type": "stream",
     "text": [
      "Hessian using hessian_f(x):\n",
      "[[2. 2.]\n",
      " [2. 2.]]\n",
      "Hessian using hessian_f_y(y):\n",
      "[[1.9999993 2.0000002]\n",
      " [1.9999999 2.000001 ]]\n"
     ]
    }
   ],
   "source": [
    "# Compare the hessian computed using hessian_f(x) and using hessian_f_y(y) with jacobians:\n",
    "print(\"Hessian using hessian_f(x):\")\n",
    "y0 = y(x0)\n",
    "print( hessian_f(x0) )\n",
    "print(\"Hessian using hessian_f_y(y):\")\n",
    "print( jac_pinv.T @ hessian_f_y(y0) @ jac_pinv )"
   ]
  }
 ],
 "metadata": {
  "kernelspec": {
   "display_name": "Python 3",
   "language": "python",
   "name": "python3"
  },
  "language_info": {
   "codemirror_mode": {
    "name": "ipython",
    "version": 3
   },
   "file_extension": ".py",
   "mimetype": "text/x-python",
   "name": "python",
   "nbconvert_exporter": "python",
   "pygments_lexer": "ipython3",
   "version": "3.11.11"
  }
 },
 "nbformat": 4,
 "nbformat_minor": 2
}
